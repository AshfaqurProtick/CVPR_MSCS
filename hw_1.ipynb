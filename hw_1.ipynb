{
 "cells": [
  {
   "cell_type": "code",
   "execution_count": 1,
   "id": "a1709269",
   "metadata": {},
   "outputs": [
    {
     "data": {
      "text/html": [
       "<div>\n",
       "<style scoped>\n",
       "    .dataframe tbody tr th:only-of-type {\n",
       "        vertical-align: middle;\n",
       "    }\n",
       "\n",
       "    .dataframe tbody tr th {\n",
       "        vertical-align: top;\n",
       "    }\n",
       "\n",
       "    .dataframe thead th {\n",
       "        text-align: right;\n",
       "    }\n",
       "</style>\n",
       "<table border=\"1\" class=\"dataframe\">\n",
       "  <thead>\n",
       "    <tr style=\"text-align: right;\">\n",
       "      <th></th>\n",
       "      <th>X1</th>\n",
       "      <th>X2</th>\n",
       "      <th>Y</th>\n",
       "    </tr>\n",
       "  </thead>\n",
       "  <tbody>\n",
       "    <tr>\n",
       "      <th>0</th>\n",
       "      <td>88</td>\n",
       "      <td>38</td>\n",
       "      <td>1</td>\n",
       "    </tr>\n",
       "    <tr>\n",
       "      <th>1</th>\n",
       "      <td>40</td>\n",
       "      <td>79</td>\n",
       "      <td>0</td>\n",
       "    </tr>\n",
       "    <tr>\n",
       "      <th>2</th>\n",
       "      <td>1</td>\n",
       "      <td>34</td>\n",
       "      <td>0</td>\n",
       "    </tr>\n",
       "    <tr>\n",
       "      <th>3</th>\n",
       "      <td>50</td>\n",
       "      <td>47</td>\n",
       "      <td>0</td>\n",
       "    </tr>\n",
       "    <tr>\n",
       "      <th>4</th>\n",
       "      <td>30</td>\n",
       "      <td>95</td>\n",
       "      <td>0</td>\n",
       "    </tr>\n",
       "  </tbody>\n",
       "</table>\n",
       "</div>"
      ],
      "text/plain": [
       "   X1  X2  Y\n",
       "0  88  38  1\n",
       "1  40  79  0\n",
       "2   1  34  0\n",
       "3  50  47  0\n",
       "4  30  95  0"
      ]
     },
     "execution_count": 1,
     "metadata": {},
     "output_type": "execute_result"
    }
   ],
   "source": [
    "import pandas as pd\n",
    "\n",
    "df = pd.read_csv('data.csv')\n",
    "df.head()"
   ]
  },
  {
   "cell_type": "code",
   "execution_count": 2,
   "id": "dc4e148d",
   "metadata": {},
   "outputs": [],
   "source": [
    "X1 = df[\"X1\"].values.tolist()\n",
    "X2 = df[\"X2\"].values.tolist()\n",
    "Y = df[\"Y\"].values.tolist()"
   ]
  },
  {
   "cell_type": "code",
   "execution_count": 3,
   "id": "5f9464aa",
   "metadata": {},
   "outputs": [
    {
     "data": {
      "image/png": "[encoded data removed]",
      "text/plain": [
       "<Figure size 1440x360 with 1 Axes>"
      ]
     },
     "metadata": {
      "needs_background": "light"
     },
     "output_type": "display_data"
    },
    {
     "name": "stdout",
     "output_type": "stream",
     "text": [
      "Epoch: 812 Loss: 0.0\n"
     ]
    }
   ],
   "source": [
    "import matplotlib.pyplot as plt\n",
    "import numpy as np\n",
    "import random\n",
    "import math\n",
    "from IPython import display\n",
    "from scipy.signal import savgol_filter\n",
    "\n",
    "\n",
    "W = [random.random(), random.random()]\n",
    "b = random.random()\n",
    "\n",
    "# W = [random.uniform(-1,1), random.uniform(-1,1)]\n",
    "# b = random.uniform(-1,1)\n",
    "\n",
    "lr = 0.1\n",
    "theta=0.5\n",
    "\n",
    "epoch = 0\n",
    "count = 0\n",
    "\n",
    "\n",
    "loss = []\n",
    "\n",
    "while count < len(X1):\n",
    "    \n",
    "    total_error = 0\n",
    "    for i in range(len(X1)):\n",
    "        weighted_sum = W[0]*X1[i] + W[1]*X2[i] + b\n",
    "        pred = 0\n",
    "        if weighted_sum > theta:\n",
    "            pred = 1\n",
    "\n",
    "        error =  Y[i] - pred\n",
    "        if error != 0:\n",
    "            count = 0\n",
    "            total_error += math.sqrt(error**2)\n",
    "            \n",
    "            W[0] += lr * error * X1[i]\n",
    "            W[1] += lr * error * X2[i]\n",
    "            b    += lr * error\n",
    "        else:\n",
    "            count += 1\n",
    "    \n",
    "    loss.append(1/len(X1)*total_error)\n",
    "    \n",
    "    plt.figure(figsize=(20,5))\n",
    "    #loss.append([epoch, total_error])   \n",
    "    display.clear_output(wait=True)\n",
    "    plt.subplot(1,2,1)\n",
    "\n",
    "    for i in range(len(Y)):\n",
    "        if Y[i] == 0:\n",
    "            plt.plot(X1[i], X2[i], \"r+\")\n",
    "        else:\n",
    "            plt.plot(X1[i], X2[i], \"g+\")\n",
    "\n",
    "        plt.xlim([-10, 110])\n",
    "        plt.ylim([-10, 110])\n",
    "\n",
    "        xintr=(theta-b)/W[0]\n",
    "        yintr=(theta-b)/W[1]\n",
    "\n",
    "        slope = -yintr/xintr\n",
    "        xx = plt.xlim()\n",
    "#                 print(xx)\n",
    "        yeq = []\n",
    "        for x in xx:\n",
    "            yeq.append(slope*x+yintr)\n",
    "        plt.plot(xx,yeq, 'b-')\n",
    "\n",
    "    plt.title(f\"Epoch: {epoch} Loss: {total_error}\")\n",
    "\n",
    "\n",
    "\n",
    "    plt.show()\n",
    "            \n",
    "    print(f\"Epoch: {epoch} Loss: {loss[-1]}\")\n",
    "    epoch += 1"
   ]
  },
  {
   "cell_type": "code",
   "execution_count": null,
   "id": "ad69194a",
   "metadata": {},
   "outputs": [],
   "source": []
  },
  {
   "cell_type": "code",
   "execution_count": null,
   "id": "db91c21b",
   "metadata": {},
   "outputs": [],
   "source": []
  }
 ],
 "metadata": {
  "kernelspec": {
   "display_name": "Python 3 (ipykernel)",
   "language": "python",
   "name": "python3"
  },
  "language_info": {
   "codemirror_mode": {
    "name": "ipython",
    "version": 3
   },
   "file_extension": ".py",
   "mimetype": "text/x-python",
   "name": "python",
   "nbconvert_exporter": "python",
   "pygments_lexer": "ipython3",
   "version": "3.9.7"
  }
 },
 "nbformat": 4,
 "nbformat_minor": 5
}
